{
 "cells": [
  {
   "cell_type": "code",
   "execution_count": 1,
   "metadata": {},
   "outputs": [
    {
     "data": {
      "text/html": [
       "<div>\n",
       "<style scoped>\n",
       "    .dataframe tbody tr th:only-of-type {\n",
       "        vertical-align: middle;\n",
       "    }\n",
       "\n",
       "    .dataframe tbody tr th {\n",
       "        vertical-align: top;\n",
       "    }\n",
       "\n",
       "    .dataframe thead th {\n",
       "        text-align: right;\n",
       "    }\n",
       "</style>\n",
       "<table border=\"1\" class=\"dataframe\">\n",
       "  <thead>\n",
       "    <tr style=\"text-align: right;\">\n",
       "      <th></th>\n",
       "      <th>Date</th>\n",
       "      <th>Flight_Number</th>\n",
       "      <th>Destination_Airport</th>\n",
       "      <th>Airborne_Time</th>\n",
       "      <th>Distance_(miles)</th>\n",
       "      <th>City_ID</th>\n",
       "    </tr>\n",
       "  </thead>\n",
       "  <tbody>\n",
       "    <tr>\n",
       "      <th>0</th>\n",
       "      <td>1</td>\n",
       "      <td>1125N660DL</td>\n",
       "      <td>ABQ</td>\n",
       "      <td>179</td>\n",
       "      <td>1267</td>\n",
       "      <td>1</td>\n",
       "    </tr>\n",
       "    <tr>\n",
       "      <th>1</th>\n",
       "      <td>1</td>\n",
       "      <td>1589N678DL</td>\n",
       "      <td>ABQ</td>\n",
       "      <td>183</td>\n",
       "      <td>1267</td>\n",
       "      <td>1</td>\n",
       "    </tr>\n",
       "    <tr>\n",
       "      <th>2</th>\n",
       "      <td>2</td>\n",
       "      <td>833N659DL</td>\n",
       "      <td>ABQ</td>\n",
       "      <td>172</td>\n",
       "      <td>1267</td>\n",
       "      <td>1</td>\n",
       "    </tr>\n",
       "    <tr>\n",
       "      <th>3</th>\n",
       "      <td>2</td>\n",
       "      <td>1125N656DL</td>\n",
       "      <td>ABQ</td>\n",
       "      <td>181</td>\n",
       "      <td>1267</td>\n",
       "      <td>1</td>\n",
       "    </tr>\n",
       "    <tr>\n",
       "      <th>4</th>\n",
       "      <td>2</td>\n",
       "      <td>1589N665DN</td>\n",
       "      <td>ABQ</td>\n",
       "      <td>184</td>\n",
       "      <td>1267</td>\n",
       "      <td>1</td>\n",
       "    </tr>\n",
       "    <tr>\n",
       "      <th>...</th>\n",
       "      <td>...</td>\n",
       "      <td>...</td>\n",
       "      <td>...</td>\n",
       "      <td>...</td>\n",
       "      <td>...</td>\n",
       "      <td>...</td>\n",
       "    </tr>\n",
       "    <tr>\n",
       "      <th>17717</th>\n",
       "      <td>30</td>\n",
       "      <td>370N914DL</td>\n",
       "      <td>VPS</td>\n",
       "      <td>47</td>\n",
       "      <td>250</td>\n",
       "      <td>93</td>\n",
       "    </tr>\n",
       "    <tr>\n",
       "      <th>17718</th>\n",
       "      <td>31</td>\n",
       "      <td>1455N911DL</td>\n",
       "      <td>VPS</td>\n",
       "      <td>39</td>\n",
       "      <td>250</td>\n",
       "      <td>93</td>\n",
       "    </tr>\n",
       "    <tr>\n",
       "      <th>17719</th>\n",
       "      <td>31</td>\n",
       "      <td>1803N907DL</td>\n",
       "      <td>VPS</td>\n",
       "      <td>41</td>\n",
       "      <td>250</td>\n",
       "      <td>93</td>\n",
       "    </tr>\n",
       "    <tr>\n",
       "      <th>17720</th>\n",
       "      <td>31</td>\n",
       "      <td>1011N972DL</td>\n",
       "      <td>VPS</td>\n",
       "      <td>42</td>\n",
       "      <td>250</td>\n",
       "      <td>93</td>\n",
       "    </tr>\n",
       "    <tr>\n",
       "      <th>17721</th>\n",
       "      <td>31</td>\n",
       "      <td>370N973DL</td>\n",
       "      <td>VPS</td>\n",
       "      <td>43</td>\n",
       "      <td>250</td>\n",
       "      <td>93</td>\n",
       "    </tr>\n",
       "  </tbody>\n",
       "</table>\n",
       "<p>17722 rows × 6 columns</p>\n",
       "</div>"
      ],
      "text/plain": [
       "       Date Flight_Number Destination_Airport  Airborne_Time  \\\n",
       "0         1    1125N660DL                 ABQ            179   \n",
       "1         1    1589N678DL                 ABQ            183   \n",
       "2         2     833N659DL                 ABQ            172   \n",
       "3         2    1125N656DL                 ABQ            181   \n",
       "4         2    1589N665DN                 ABQ            184   \n",
       "...     ...           ...                 ...            ...   \n",
       "17717    30     370N914DL                 VPS             47   \n",
       "17718    31    1455N911DL                 VPS             39   \n",
       "17719    31    1803N907DL                 VPS             41   \n",
       "17720    31    1011N972DL                 VPS             42   \n",
       "17721    31     370N973DL                 VPS             43   \n",
       "\n",
       "       Distance_(miles)  City_ID  \n",
       "0                  1267        1  \n",
       "1                  1267        1  \n",
       "2                  1267        1  \n",
       "3                  1267        1  \n",
       "4                  1267        1  \n",
       "...                 ...      ...  \n",
       "17717               250       93  \n",
       "17718               250       93  \n",
       "17719               250       93  \n",
       "17720               250       93  \n",
       "17721               250       93  \n",
       "\n",
       "[17722 rows x 6 columns]"
      ]
     },
     "execution_count": 1,
     "metadata": {},
     "output_type": "execute_result"
    }
   ],
   "source": [
    "#import pandas, read in csv, view data table with new column headers\n",
    "import pandas as pd \n",
    "\n",
    "delta = pd.read_csv(\"Delta Airline Data.csv\")\n",
    "\n",
    "delta.columns = [\"Date\", \"Flight_Number\", \"Destination_Airport\", \"Airborne_Time\", \"Distance_(miles)\", \"City_ID\" ]\n",
    "\n",
    "delta"
   ]
  },
  {
   "cell_type": "code",
   "execution_count": 2,
   "metadata": {},
   "outputs": [],
   "source": [
    "#split head and tail column \n",
    "new = delta[\"Flight_Number\"].str.split(\"N\", n = 1, expand = True) #new dataframe with split column values\n",
    "\n",
    "#rename new columns\n",
    "delta[\"Fight\"]= new[0]\n",
    "delta[\"Tail_Number\"]= new[1] \n",
    "\n",
    "#remove column \"Flight_Number\"\n",
    "delta.drop(columns =[\"Flight_Number\"], inplace = True) "
   ]
  },
  {
   "cell_type": "code",
   "execution_count": 6,
   "metadata": {},
   "outputs": [],
   "source": [
    "#add 'N' to Tail Number ID\n",
    "delta['Tail_Number'] = 'N'+delta[\"Tail_Number\"].astype(str)"
   ]
  },
  {
   "cell_type": "code",
   "execution_count": 8,
   "metadata": {},
   "outputs": [
    {
     "data": {
      "text/html": [
       "<div>\n",
       "<style scoped>\n",
       "    .dataframe tbody tr th:only-of-type {\n",
       "        vertical-align: middle;\n",
       "    }\n",
       "\n",
       "    .dataframe tbody tr th {\n",
       "        vertical-align: top;\n",
       "    }\n",
       "\n",
       "    .dataframe thead th {\n",
       "        text-align: right;\n",
       "    }\n",
       "</style>\n",
       "<table border=\"1\" class=\"dataframe\">\n",
       "  <thead>\n",
       "    <tr style=\"text-align: right;\">\n",
       "      <th></th>\n",
       "      <th>Airborne_Time</th>\n",
       "      <th>Distance_(miles)</th>\n",
       "    </tr>\n",
       "  </thead>\n",
       "  <tbody>\n",
       "    <tr>\n",
       "      <th>count</th>\n",
       "      <td>17722.000000</td>\n",
       "      <td>17722.000000</td>\n",
       "    </tr>\n",
       "    <tr>\n",
       "      <th>mean</th>\n",
       "      <td>100.954125</td>\n",
       "      <td>722.927378</td>\n",
       "    </tr>\n",
       "    <tr>\n",
       "      <th>std</th>\n",
       "      <td>67.284206</td>\n",
       "      <td>527.407262</td>\n",
       "    </tr>\n",
       "    <tr>\n",
       "      <th>min</th>\n",
       "      <td>22.000000</td>\n",
       "      <td>134.000000</td>\n",
       "    </tr>\n",
       "    <tr>\n",
       "      <th>25%</th>\n",
       "      <td>58.000000</td>\n",
       "      <td>405.000000</td>\n",
       "    </tr>\n",
       "    <tr>\n",
       "      <th>50%</th>\n",
       "      <td>79.000000</td>\n",
       "      <td>576.000000</td>\n",
       "    </tr>\n",
       "    <tr>\n",
       "      <th>75%</th>\n",
       "      <td>113.000000</td>\n",
       "      <td>812.000000</td>\n",
       "    </tr>\n",
       "    <tr>\n",
       "      <th>max</th>\n",
       "      <td>577.000000</td>\n",
       "      <td>4496.000000</td>\n",
       "    </tr>\n",
       "  </tbody>\n",
       "</table>\n",
       "</div>"
      ],
      "text/plain": [
       "       Airborne_Time  Distance_(miles)\n",
       "count   17722.000000      17722.000000\n",
       "mean      100.954125        722.927378\n",
       "std        67.284206        527.407262\n",
       "min        22.000000        134.000000\n",
       "25%        58.000000        405.000000\n",
       "50%        79.000000        576.000000\n",
       "75%       113.000000        812.000000\n",
       "max       577.000000       4496.000000"
      ]
     },
     "execution_count": 8,
     "metadata": {},
     "output_type": "execute_result"
    }
   ],
   "source": [
    "#descriptive stats\n",
    "delta[[\"Airborne_Time\", \"Distance_(miles)\"]].describe()"
   ]
  },
  {
   "cell_type": "code",
   "execution_count": 10,
   "metadata": {},
   "outputs": [
    {
     "data": {
      "text/plain": [
       "LGA    487\n",
       "PHL    453\n",
       "DFW    426\n",
       "TPA    403\n",
       "DCA    402\n",
       "      ... \n",
       "ELP     31\n",
       "STT     31\n",
       "GRR     26\n",
       "MYR     23\n",
       "GPT      5\n",
       "Name: Destination_Airport, Length: 93, dtype: int64"
      ]
     },
     "execution_count": 10,
     "metadata": {},
     "output_type": "execute_result"
    }
   ],
   "source": [
    "#value counts for each airport \n",
    "delta['Destination_Airport'].value_counts()"
   ]
  },
  {
   "cell_type": "code",
   "execution_count": 15,
   "metadata": {},
   "outputs": [
    {
     "data": {
      "text/plain": [
       "5934"
      ]
     },
     "execution_count": 15,
     "metadata": {},
     "output_type": "execute_result"
    }
   ],
   "source": [
    "#find the airport with the largest discrepency between airborne time and distance\n",
    "disc =  (delta['Airborne_Time']-delta['Distance_(miles)']).abs().idxmax()\n",
    "\n",
    "disc"
   ]
  },
  {
   "cell_type": "code",
   "execution_count": 14,
   "metadata": {},
   "outputs": [
    {
     "name": "stdout",
     "output_type": "stream",
     "text": [
      "Date                       13\n",
      "Destination_Airport       HNL\n",
      "Airborne_Time             505\n",
      "Distance_(miles)         4496\n",
      "City_ID                    30\n",
      "Fight                     317\n",
      "Tail_Number            N828MH\n",
      "Name: 5934, dtype: object\n"
     ]
    }
   ],
   "source": [
    "#print information from index 5934\n",
    "print(delta.iloc[5934])"
   ]
  }
 ],
 "metadata": {
  "kernelspec": {
   "display_name": "Python 3",
   "language": "python",
   "name": "python3"
  },
  "language_info": {
   "codemirror_mode": {
    "name": "ipython",
    "version": 3
   },
   "file_extension": ".py",
   "mimetype": "text/x-python",
   "name": "python",
   "nbconvert_exporter": "python",
   "pygments_lexer": "ipython3",
   "version": "3.8.3"
  }
 },
 "nbformat": 4,
 "nbformat_minor": 4
}
